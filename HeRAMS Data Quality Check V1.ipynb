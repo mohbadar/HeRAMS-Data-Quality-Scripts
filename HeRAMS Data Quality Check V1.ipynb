{
 "cells": [
  {
   "cell_type": "code",
   "execution_count": 1,
   "id": "00b1b83c",
   "metadata": {},
   "outputs": [],
   "source": [
    "# Library Import\n",
    "import pandas as pd"
   ]
  },
  {
   "cell_type": "code",
   "execution_count": 2,
   "id": "98b60289",
   "metadata": {},
   "outputs": [],
   "source": [
    "from datetime import datetime\n",
    "now = datetime.now()"
   ]
  },
  {
   "cell_type": "markdown",
   "id": "006a2fcb",
   "metadata": {},
   "source": [
    "# Data Import"
   ]
  },
  {
   "cell_type": "code",
   "execution_count": 3,
   "id": "870afcbf",
   "metadata": {},
   "outputs": [],
   "source": [
    "df=pd.read_excel('data.xlsx',sheet_name='Sheet1')\n",
    "# Read top 5 records to check the data \n",
    "# df.head()"
   ]
  },
  {
   "cell_type": "markdown",
   "id": "dd6ce247",
   "metadata": {},
   "source": [
    "# Data Cleaning "
   ]
  },
  {
   "cell_type": "code",
   "execution_count": null,
   "id": "4cb9b013",
   "metadata": {},
   "outputs": [],
   "source": [
    "# # List missing external_id\n",
    "# df.loc[(df['external_id'].isnull())]\n",
    "\n",
    "# # List missing GEO1\n",
    "# df.loc[(df['GEO1'].isnull())]\n",
    "\n",
    "# # Drop rows where external_id, Geo1 is missing\n",
    "# df = df=df.dropna(subset=['external_id'])\n",
    "# df = df.dropna(subset=['GEO1'])\n",
    "\n",
    "# # Reset index for dropped rows\n",
    "# df = df.reset_index(inplace=True, drop=True)\n",
    "\n",
    "# # Sort by update_date desc\n",
    "# df = df.sort_values(by='date')\n",
    "\n",
    "# # Remove duplicate external_id, if there are any\n",
    "# df = df.drop_duplicates(subset=['external_id'])\n",
    "\n",
    "# # Remove duplicate subject_id, if there are any\n",
    "# df = df.drop_duplicates(subset=['subject_id'])\n"
   ]
  },
  {
   "cell_type": "code",
   "execution_count": null,
   "id": "4998df8c",
   "metadata": {},
   "outputs": [],
   "source": [
    "# The new size of df\n",
    "print(df.shape)\n",
    "print(\"(Row x Column)\")"
   ]
  },
  {
   "cell_type": "code",
   "execution_count": null,
   "id": "163c3208",
   "metadata": {},
   "outputs": [],
   "source": [
    "# See the overall HFs by Type \n",
    "\n",
    "# Group by Hf Type\n",
    "dfg = df.groupby(['MoSD3']).size()\n",
    "\n",
    "# Plot\n",
    "dfg.plot(kind='bar', ylabel='HF Count',\n",
    "         xlabel='HF Type', figsize=(10, 6), subplots=True)"
   ]
  },
  {
   "cell_type": "markdown",
   "id": "684b904b",
   "metadata": {},
   "source": [
    "# Data Quality"
   ]
  },
  {
   "cell_type": "raw",
   "id": "0522565b",
   "metadata": {},
   "source": [
    "Data Quality Check: \n",
    "    1. Data Completeness and Timeliness Check\n",
    "    2. Duplicate Check\n",
    "    3. Building Type Correctness Check\n",
    "    4. GPS boundary check \n",
    "    5. Catchment Population Check\n",
    "    6. Status vs Functionality vs Accessibility vs Service Availability Check\n",
    "    7. Building damage check / Building damage vs type -> for MTHs is irrelavant \n",
    "    8. Equipment damage check \n",
    "    9. Partner Support vs Implementing Partner \n",
    "    10. Service Availability Check and Expected Behavior compare existing situation"
   ]
  },
  {
   "cell_type": "markdown",
   "id": "79478c0e",
   "metadata": {},
   "source": [
    "### Data Completeness and Timeliness Check"
   ]
  },
  {
   "cell_type": "code",
   "execution_count": null,
   "id": "f1c58646",
   "metadata": {},
   "outputs": [],
   "source": [
    "# List of health facilities which are outdated since the Update_Date\n",
    "Update_Date = '2022-01-01 00:00:00'\n",
    "outDateDF = df[df['date'].astype(str) < Update_Date]\n",
    "outDateDF.head()\n",
    "\n",
    "print(\"All Rows:\")\n",
    "print(outDateDF.shape)\n",
    "date_time = now.strftime(\"%m%d%Y%H%M%S\")\n",
    "url = \"completeness_timeliness/outdated_{}.csv\".format(date_time)\n",
    "# outDateDF.to_csv(url)\n"
   ]
  },
  {
   "cell_type": "code",
   "execution_count": null,
   "id": "bcdc829f",
   "metadata": {},
   "outputs": [],
   "source": [
    "# List of health facilities which are not synced since the Sync_date\n",
    "Sync_Date = '2023-01-01 00:00:00'\n",
    "notSuncedDF = df[df['last_synced'].astype(str) < Sync_Date]\n",
    "notSuncedDF.head()\n",
    "\n",
    "print(\"Not Synced Rows:\")\n",
    "print(notSuncedDF.shape)\n",
    "date_time = now.strftime(\"%m%d%Y%H%M%S\")\n",
    "url = \"completeness_timeliness/not_synced_{}.csv\".format(date_time)\n",
    "# notSuncedDF.to_csv(url)"
   ]
  },
  {
   "cell_type": "code",
   "execution_count": null,
   "id": "8d1b899c",
   "metadata": {},
   "outputs": [],
   "source": []
  },
  {
   "cell_type": "markdown",
   "id": "37e08b95",
   "metadata": {},
   "source": [
    "### Duplicate Check"
   ]
  },
  {
   "cell_type": "code",
   "execution_count": null,
   "id": "2ff64d21",
   "metadata": {},
   "outputs": [],
   "source": []
  },
  {
   "cell_type": "code",
   "execution_count": null,
   "id": "1935f61f",
   "metadata": {},
   "outputs": [],
   "source": [
    "### First Approach : Check based on exact match of health facility name and type\n",
    "dfObj = pd.DataFrame(df, columns=['MoSD2', 'MoSD2en','MoSD3', 'MoSD1', 'GEO1', 'workspace_id', 'date', 'MoSDGPS_SQ002', 'MoSDGPS_SQ001'])\n",
    "duplicateRowsDF = dfObj[dfObj.duplicated(['MoSD2en','MoSD3'],keep=False)]\n",
    "# print(\"All Duplicate Rows based on all columns are :\")\n",
    "# print(duplicateRowsDF)\n",
    "date_time = now.strftime(\"%m%d%Y%H%M%S\")\n",
    "url = \"duplicates/first_approach_{}.csv\".format(date_time)\n",
    "# duplicateRowsDF.to_csv(url)"
   ]
  },
  {
   "cell_type": "code",
   "execution_count": null,
   "id": "5272a7da",
   "metadata": {},
   "outputs": [],
   "source": [
    "### Second Approach : Check based on exact match of health facility code\n",
    "dfObj = pd.DataFrame(df, columns=['MoSD2', 'MoSD2en','MoSD3', 'MoSD1', 'GEO1', 'workspace_id', 'date', 'MoSDGPS_SQ002', 'MoSDGPS_SQ001'])\n",
    "duplicateRowsDF = dfObj[dfObj.duplicated(['MoSD1'],keep=False)]\n",
    "# print(\"All Duplicate Rows based on all columns are :\")\n",
    "# print(duplicateRowsDF)\n",
    "date_time = now.strftime(\"%m%d%Y%H%M%S\")\n",
    "url = \"duplicates/second_approach_{}.csv\".format(date_time)\n",
    "# duplicateRowsDF.to_csv(url)"
   ]
  },
  {
   "cell_type": "code",
   "execution_count": null,
   "id": "f2f5a503",
   "metadata": {},
   "outputs": [],
   "source": [
    "### Third Approach : Check based on exact match of health facility code, type, GEO1\n",
    "dfObj = pd.DataFrame(df, columns=['MoSD2', 'MoSD2en','MoSD3', 'MoSD1', 'GEO1', 'workspace_id', 'date', 'MoSDGPS_SQ002', 'MoSDGPS_SQ001'])\n",
    "duplicateRowsDF = dfObj[dfObj.duplicated(['MoSD1', 'MoSD3', 'GEO1'],keep=False)]\n",
    "# print(\"All Duplicate Rows based on all columns are :\")\n",
    "# print(duplicateRowsDF)\n",
    "date_time = now.strftime(\"%m%d%Y%H%M%S\")\n",
    "url = \"duplicates/third_approach_{}.csv\".format(date_time)\n",
    "# duplicateRowsDF.to_csv(url)"
   ]
  },
  {
   "cell_type": "code",
   "execution_count": null,
   "id": "cde9916b",
   "metadata": {},
   "outputs": [],
   "source": [
    "### Fourth Approach : Check based on exact match of health facility name, type, GEO1\n",
    "dfObj = pd.DataFrame(df, columns=['MoSD2', 'MoSD2en','MoSD3', 'MoSD1', 'GEO1', 'workspace_id', 'date', 'MoSDGPS_SQ002', 'MoSDGPS_SQ001'])\n",
    "duplicateRowsDF = dfObj[dfObj.duplicated(['MoSD2en', 'MoSD3', 'GEO1'],keep=False)]\n",
    "# print(\"All Duplicate Rows based on all columns are :\")\n",
    "# print(duplicateRowsDF)\n",
    "date_time = now.strftime(\"%m%d%Y%H%M%S\")\n",
    "url = \"duplicates/fourth_approach_{}.csv\".format(date_time)\n",
    "# duplicateRowsDF.to_csv(url)"
   ]
  },
  {
   "cell_type": "code",
   "execution_count": null,
   "id": "4a2da6bf",
   "metadata": {},
   "outputs": [],
   "source": [
    "### Fifth Approach : Check based on exact match of health facility code, name, type, GEO1\n",
    "dfObj = pd.DataFrame(df, columns=['MoSD2', 'MoSD2en','MoSD3', 'MoSD1', 'GEO1', 'workspace_id', 'date', 'MoSDGPS_SQ002', 'MoSDGPS_SQ001'])\n",
    "duplicateRowsDF = dfObj[dfObj.duplicated(['MoSD2en', 'MoSD1', 'MoSD3', 'GEO1'],keep=False)]\n",
    "# print(\"All Duplicate Rows based on all columns are :\")\n",
    "# print(duplicateRowsDF)\n",
    "date_time = now.strftime(\"%m%d%Y%H%M%S\")\n",
    "url = \"duplicates/fifth_approach_{}.csv\".format(date_time)\n",
    "# duplicateRowsDF.to_csv(url)"
   ]
  },
  {
   "cell_type": "markdown",
   "id": "9ee0cd92",
   "metadata": {},
   "source": []
  },
  {
   "cell_type": "markdown",
   "id": "82d3f7b2",
   "metadata": {},
   "source": [
    "### Building Type Correctness Check"
   ]
  },
  {
   "cell_type": "markdown",
   "id": "49f4e8f1",
   "metadata": {},
   "source": [
    "### GPS Boundary Check"
   ]
  },
  {
   "cell_type": "code",
   "execution_count": null,
   "id": "fe351259",
   "metadata": {},
   "outputs": [],
   "source": [
    "##conda install -c conda-forge geopy\n",
    "import io\n",
    "from geopy.geocoders import Nominatim\n",
    "geolocator = Nominatim(user_agent=\"geoapiExercises\")"
   ]
  },
  {
   "cell_type": "code",
   "execution_count": null,
   "id": "7ed59366",
   "metadata": {},
   "outputs": [],
   "source": [
    "# Variables to Modify\n",
    "COUNTRY =\"العراق\""
   ]
  },
  {
   "cell_type": "code",
   "execution_count": null,
   "id": "6ae8a0f5",
   "metadata": {},
   "outputs": [],
   "source": [
    "def get_country(lat, long):\n",
    "    coord = f\"{lat}, {long}\"\n",
    "    location = geolocator.reverse(coord, exactly_one=True)\n",
    "    address = location.raw['address']\n",
    "    country = address.get('country', '')\n",
    "    return country\n",
    "\n",
    "## Check against State, City, Country \n",
    "# def city_state_country(row):\n",
    "#     coord = f\"{row['Latitude']}, {row['Longitude']}\"\n",
    "#     location = geolocator.reverse(coord, exactly_one=True)\n",
    "#     address = location.raw['address']\n",
    "#     city = address.get('city', '')\n",
    "#     state = address.get('state', '')\n",
    "#     country = address.get('country', '')\n",
    "#     row['city'] = city\n",
    "#     row['state'] = state\n",
    "#     row['country'] = country\n",
    "#     return row\n"
   ]
  },
  {
   "cell_type": "code",
   "execution_count": null,
   "id": "76e81209",
   "metadata": {},
   "outputs": [],
   "source": [
    "df=pd.read_excel('data.xlsx',sheet_name='Sheet1')"
   ]
  },
  {
   "cell_type": "code",
   "execution_count": null,
   "id": "202e3f0e",
   "metadata": {},
   "outputs": [],
   "source": [
    "\n",
    "df = df.set_index(['MoSDGPS_SQ001','MoSDGPS_SQ002']).head(2).reset_index() \n",
    "# df = df.reset_index()  # make sure indexes pair with number of rows\n",
    "# list(df.columns.values)\n",
    "dataset = []\n",
    "for index, row in df.iterrows():\n",
    "    \n",
    "    if(get_country(row['MoSDGPS_SQ001'],row['MoSDGPS_SQ002']) == COUNTRY):\n",
    "        print(index)\n",
    "        dataset.append(row)\n",
    "         "
   ]
  },
  {
   "cell_type": "code",
   "execution_count": null,
   "id": "b11cc4a6",
   "metadata": {},
   "outputs": [],
   "source": [
    "output_df = pd.DataFrame(dataset)\n",
    "\n",
    "date_time = now.strftime(\"%m%d%Y%H%M%S\")\n",
    "url = \"gps/out_of_boundary_{}.csv\".format(date_time)\n",
    "output_df.to_csv(url)\n",
    "\n",
    "output_df.head()"
   ]
  },
  {
   "cell_type": "markdown",
   "id": "35949341",
   "metadata": {},
   "source": [
    "### Catchement Population Check "
   ]
  },
  {
   "cell_type": "code",
   "execution_count": null,
   "id": "945f0195",
   "metadata": {},
   "outputs": [],
   "source": [
    "import numpy as np\n",
    "from scipy import stats"
   ]
  },
  {
   "cell_type": "code",
   "execution_count": null,
   "id": "86c85e7d",
   "metadata": {},
   "outputs": [],
   "source": [
    "def find_outliers_IQR(df):\n",
    "    q1=df['MoSDPOP'].quantile(0.25)\n",
    "    q3=df['MoSDPOP'].quantile(0.75)\n",
    "    IQR=q3-q1\n",
    "    outliers = df[((df['MoSDPOP']<(q1-2*IQR)) | (df['MoSDPOP']>(q3+2*IQR)))]\n",
    "    return outliers"
   ]
  },
  {
   "cell_type": "code",
   "execution_count": null,
   "id": "5a0f7257",
   "metadata": {},
   "outputs": [],
   "source": [
    "# df=pd.read_excel('data.xlsx',sheet_name='Sheet1')\n",
    "# print(list(df.columns.values))\n",
    "df['MoSDPOP'] = df['MoSDPOP'].astype('float')\n",
    "\n",
    "# print(df['MoSDPOP'])\n",
    "\n",
    "# Calculate the z-score for each health facility catchment populations\n",
    "z = np.abs(stats.zscore(df['MoSDPOP']))\n",
    "# print(df.describe()[['MoSDPOP']])\n",
    "# print()\n",
    "\n",
    "outlierDF = pd.DataFrame(find_outliers_IQR(df))\n",
    "outlierDF.head()\n",
    "\n",
    "outlierDF = pd.DataFrame(outlierDF, columns=['MoSD2', 'MoSD2en','MoSD3', 'MoSD1', 'GEO1', 'workspace_id', 'date', 'MoSDGPS_SQ002', 'MoSDGPS_SQ001', 'MoSDPOP'])\n",
    "\n",
    "\n",
    "date_time = now.strftime(\"%m%d%Y%H%M%S\")\n",
    "url = \"outlier/outlier_{}.csv\".format(date_time)\n",
    "outlierDF.to_csv(url)\n",
    "# # Identify outliers as health facilities with a z-score greater than 3\n",
    "# threshold = 100\n",
    "# outliers = df[z > threshold]\n",
    "\n",
    "# # Print the outliers\n",
    "# print(outliers)\n",
    "\n",
    "# replace outliers with median value\n",
    "# df.loc[z > threshold, 'MoSDPOP'] = df['MoSDPOP'].median()"
   ]
  },
  {
   "cell_type": "markdown",
   "id": "ed70b17b",
   "metadata": {},
   "source": [
    "### Status vs Functionality vs Accessibility vs Service Availability Check"
   ]
  },
  {
   "cell_type": "code",
   "execution_count": 4,
   "id": "f8d9f587",
   "metadata": {},
   "outputs": [
    {
     "name": "stdout",
     "output_type": "stream",
     "text": [
      "MoSD4\n",
      "Closed       341\n",
      "Existing    4783\n",
      "Planned       80\n",
      "dtype: int64\n"
     ]
    },
    {
     "data": {
      "text/plain": [
       "array([<Axes: xlabel='Status', ylabel='HF Count'>], dtype=object)"
      ]
     },
     "execution_count": 4,
     "metadata": {},
     "output_type": "execute_result"
    },
    {
     "data": {
      "image/png": "[encoded data removed]",
      "text/plain": [
       "<Figure size 1000x600 with 1 Axes>"
      ]
     },
     "metadata": {},
     "output_type": "display_data"
    }
   ],
   "source": [
    "# See the overall HFs by Status \n",
    "\n",
    "# Group by Hf Type\n",
    "dfg = df.groupby(['MoSD4']).size()\n",
    "print(dfg)\n",
    "# Plot\n",
    "dfg.plot(kind='bar', ylabel='HF Count',\n",
    "         xlabel='Status', figsize=(10, 6), subplots=True)"
   ]
  },
  {
   "cell_type": "code",
   "execution_count": 5,
   "id": "53f18bcc",
   "metadata": {},
   "outputs": [
    {
     "name": "stdout",
     "output_type": "stream",
     "text": [
      "HFFUNCT\n",
      "Fully Functioning        2906\n",
      "Non-Functioning            15\n",
      "Partially Functioning    1846\n",
      "dtype: int64\n"
     ]
    }
   ],
   "source": [
    "# Group by Hf Type\n",
    "dfg = df.groupby(['HFFUNCT']).size()\n",
    "print(dfg)"
   ]
  },
  {
   "cell_type": "code",
   "execution_count": 7,
   "id": "5758344c",
   "metadata": {},
   "outputs": [],
   "source": [
    "dataset = []\n",
    "for index, row in df.iterrows():\n",
    "    if((row['MoSD4'] == 'Closed' or row['MoSD4'] == 'Planned') and (row['HFFUNCT'] == 'Fully Functioning' or row['HFFUNCT'] == 'Partially Functioning')):\n",
    "        print(index)\n",
    "        dataset.append(row)"
   ]
  },
  {
   "cell_type": "code",
   "execution_count": null,
   "id": "86c46392",
   "metadata": {},
   "outputs": [],
   "source": [
    "output_df = pd.DataFrame(dataset)\n",
    "\n",
    "date_time = now.strftime(\"%m%d%Y%H%M%S\")\n",
    "url = \"status_vs_functionality/closed_functional_{}.csv\".format(date_time)\n",
    "output_df.to_csv(url)\n",
    "\n",
    "output_df.head()"
   ]
  },
  {
   "cell_type": "code",
   "execution_count": 9,
   "id": "f5201ce4",
   "metadata": {},
   "outputs": [
    {
     "name": "stdout",
     "output_type": "stream",
     "text": [
      "69\n",
      "78\n",
      "80\n",
      "305\n",
      "323\n",
      "832\n",
      "937\n",
      "1303\n",
      "2044\n",
      "2132\n",
      "2537\n",
      "2547\n",
      "2549\n",
      "4281\n",
      "4934\n"
     ]
    }
   ],
   "source": [
    "dataset = []\n",
    "for index, row in df.iterrows():\n",
    "    if((row['MoSD4'] == 'Existing') and row['HFFUNCT'] == 'Non-Functioning'):\n",
    "        print(index)\n",
    "        dataset.append(row)"
   ]
  },
  {
   "cell_type": "code",
   "execution_count": 11,
   "id": "97034b37",
   "metadata": {},
   "outputs": [
    {
     "data": {
      "text/plain": [
       "(15, 830)"
      ]
     },
     "execution_count": 11,
     "metadata": {},
     "output_type": "execute_result"
    }
   ],
   "source": [
    "output_df = pd.DataFrame(dataset)\n",
    "\n",
    "date_time = now.strftime(\"%m%d%Y%H%M%S\")\n",
    "url = \"status_vs_functionality/existing_not_functional_{}.csv\".format(date_time)\n",
    "output_df.to_csv(url)\n",
    "\n",
    "output_df.shape"
   ]
  },
  {
   "cell_type": "markdown",
   "id": "c15089d2",
   "metadata": {},
   "source": [
    "### Building damage check / Building damage vs type -> for MTHs is irrelavant "
   ]
  },
  {
   "cell_type": "code",
   "execution_count": 40,
   "id": "4ebc6f1f",
   "metadata": {},
   "outputs": [],
   "source": [
    "df=pd.read_excel('data.xlsx',sheet_name='Sheet1')"
   ]
  },
  {
   "cell_type": "code",
   "execution_count": 41,
   "id": "d8a2b260",
   "metadata": {},
   "outputs": [
    {
     "name": "stdout",
     "output_type": "stream",
     "text": [
      "MoSD3\n",
      "Blood Bank Center -Branch                                             2\n",
      "Blood Bank Center -Main                                              22\n",
      "Central Public Health Laboratory                                     28\n",
      "Chest and Respiratory Diseases Unit                                  33\n",
      "Disease Prevention Sector                                             8\n",
      "Emergency Center                                                      6\n",
      "Forensic Medicine Center                                             26\n",
      "Health House                                                        545\n",
      "Health Sector                                                       149\n",
      "Hospital                                                            275\n",
      "Immediate First Aid Center                                           63\n",
      "Mobile Clinic                                                        37\n",
      "Mobile Team                                                         230\n",
      "Other                                                                82\n",
      "Primary Health Care Center - Branch                                1617\n",
      "Primary Health Care Center - Family Medicine Health Care Center     176\n",
      "Primary Health Care Center - Main                                  1236\n",
      "Primary Health Care Center - Main specialized                        53\n",
      "Public Health Clinic                                                415\n",
      "Specialized Center                                                  202\n",
      "dtype: int64\n"
     ]
    }
   ],
   "source": [
    "# Group by Type\n",
    "dfg = df.groupby(['MoSD3']).size()\n",
    "print(dfg)"
   ]
  },
  {
   "cell_type": "code",
   "execution_count": 49,
   "id": "4c431995",
   "metadata": {},
   "outputs": [
    {
     "name": "stdout",
     "output_type": "stream",
     "text": [
      "CONDB\n",
      "Fully damaged: or major damage requiring complete reconstruction, or extent of damage is such that costs to repair would be as high as cost for reconstruction      16\n",
      "Not damaged: or insignificant damage                                                                                                                              3781\n",
      "Not relevant: (e.g mobile clinic)                                                                                                                                   75\n",
      "Partially damaged: requiring substantial to large scale repair, but at lower cost than full reconstruction                                                         911\n",
      "dtype: int64\n"
     ]
    }
   ],
   "source": [
    "# Group by Building Condition\n",
    "dfg = df.groupby(['CONDB']).size()\n",
    "print(dfg)"
   ]
  },
  {
   "cell_type": "code",
   "execution_count": 64,
   "id": "aa5ac234",
   "metadata": {},
   "outputs": [
    {
     "name": "stdout",
     "output_type": "stream",
     "text": [
      "390\n",
      "529\n",
      "530\n",
      "531\n",
      "538\n",
      "685\n",
      "780\n",
      "783\n",
      "785\n",
      "878\n",
      "1327\n",
      "1504\n",
      "1639\n",
      "1723\n",
      "2002\n",
      "2337\n",
      "2339\n",
      "2895\n",
      "2951\n",
      "3034\n",
      "3035\n",
      "3036\n",
      "3037\n",
      "3038\n",
      "3039\n",
      "3040\n",
      "3041\n",
      "3042\n",
      "3043\n",
      "3044\n",
      "3045\n",
      "3052\n",
      "3577\n",
      "3646\n",
      "4400\n"
     ]
    }
   ],
   "source": [
    "dfObj = pd.DataFrame(df, columns=['MoSD2', 'MoSD2en','MoSD3', 'MoSD1', 'GEO1', 'workspace_id', 'date', 'MoSDGPS_SQ002', 'MoSDGPS_SQ001', 'CONDB'])\n",
    "dfObj = dfObj.dropna(subset=['CONDB'])\n",
    "dataset = []\n",
    "for index, row in dfObj.iterrows():\n",
    "    if(\"Mobile\" not in row['MoSD3']  and  \"Not relevant\" in row['CONDB']):\n",
    "        print(index)\n",
    "        dataset.append(row)"
   ]
  },
  {
   "cell_type": "code",
   "execution_count": 65,
   "id": "ca923e4a",
   "metadata": {},
   "outputs": [
    {
     "data": {
      "text/plain": [
       "(35, 10)"
      ]
     },
     "execution_count": 65,
     "metadata": {},
     "output_type": "execute_result"
    }
   ],
   "source": [
    "output_df = pd.DataFrame(dataset)\n",
    "\n",
    "date_time = now.strftime(\"%m%d%Y%H%M%S\")\n",
    "url = \"building_vs_type/building_vs_type_{}.csv\".format(date_time)\n",
    "output_df.to_csv(url)\n",
    "\n",
    "output_df.shape"
   ]
  },
  {
   "cell_type": "markdown",
   "id": "a4295ed6",
   "metadata": {},
   "source": [
    "### Equipment damage check "
   ]
  },
  {
   "cell_type": "markdown",
   "id": "023b7b4d",
   "metadata": {},
   "source": [
    "### Partner Support vs Implementing Partner "
   ]
  },
  {
   "cell_type": "markdown",
   "id": "c36c2abd",
   "metadata": {},
   "source": [
    "### Service Availability Check and Expected Behavior compare existing situation"
   ]
  },
  {
   "cell_type": "code",
   "execution_count": null,
   "id": "ce50a0e0",
   "metadata": {},
   "outputs": [],
   "source": []
  }
 ],
 "metadata": {
  "kernelspec": {
   "display_name": "Python 3 (ipykernel)",
   "language": "python",
   "name": "python3"
  },
  "language_info": {
   "codemirror_mode": {
    "name": "ipython",
    "version": 3
   },
   "file_extension": ".py",
   "mimetype": "text/x-python",
   "name": "python",
   "nbconvert_exporter": "python",
   "pygments_lexer": "ipython3",
   "version": "3.11.4"
  }
 },
 "nbformat": 4,
 "nbformat_minor": 5
}
