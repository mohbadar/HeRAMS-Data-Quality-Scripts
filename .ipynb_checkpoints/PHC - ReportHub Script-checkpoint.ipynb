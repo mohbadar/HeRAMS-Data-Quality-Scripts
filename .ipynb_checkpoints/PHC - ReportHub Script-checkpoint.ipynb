{
 "cells": [
  {
   "cell_type": "code",
   "execution_count": null,
   "id": "da51de58",
   "metadata": {},
   "outputs": [],
   "source": [
    "import pandas as pd\n",
    "from difflib import SequenceMatcher\n",
    "import numpy as np\n",
    "import itertools\n"
   ]
  },
  {
   "cell_type": "markdown",
   "id": "e10f5151",
   "metadata": {},
   "source": [
    "### Import DHIS2 data "
   ]
  },
  {
   "cell_type": "code",
   "execution_count": null,
   "id": "24c281ba",
   "metadata": {},
   "outputs": [],
   "source": [
    "df = pd.read_csv('june2023/06_Jun23.csv', skipinitialspace=True, )"
   ]
  },
  {
   "cell_type": "markdown",
   "id": "f0c32b47",
   "metadata": {},
   "source": [
    "### Import Metadata"
   ]
  },
  {
   "cell_type": "code",
   "execution_count": null,
   "id": "772803f3",
   "metadata": {},
   "outputs": [],
   "source": [
    "indicator_df = pd.read_csv('metadata/indicator_mapping.csv')"
   ]
  },
  {
   "cell_type": "code",
   "execution_count": null,
   "id": "84200143",
   "metadata": {},
   "outputs": [],
   "source": [
    "admin_df = pd.read_csv('metadata/admin_mapping.csv')\n"
   ]
  },
  {
   "cell_type": "code",
   "execution_count": null,
   "id": "088a81c1",
   "metadata": {},
   "outputs": [],
   "source": [
    "df.head()"
   ]
  },
  {
   "cell_type": "markdown",
   "id": "c1d0dc92",
   "metadata": {},
   "source": [
    "### Mapping Functions"
   ]
  },
  {
   "cell_type": "code",
   "execution_count": null,
   "id": "c5c2431a",
   "metadata": {},
   "outputs": [],
   "source": [
    "def getSimilarity(data):\n",
    "    similarity = lambda x: np.mean([SequenceMatcher(None, a,b).ratio() for a,b in itertools.combinations(x, 2)])\n",
    "    print(\"Similarity\",similarity)\n",
    "    return similarity\n",
    "    "
   ]
  },
  {
   "cell_type": "code",
   "execution_count": null,
   "id": "003e89ec",
   "metadata": {},
   "outputs": [],
   "source": [
    "def map_indicators(row):\n",
    "    indicators = indicator_df.loc[indicator_df['Indicator_DHIS2'] == row['Indicator']]\n",
    "    print('Indicator', indicators.Indicator_reportHub)\n",
    "    return indicators['Indicator_reportHub'].empty if \"\" else indicators['Indicator_reportHub']\n",
    "#     val = ''\n",
    "#     for index, data in indicator_df.iterrows():\n",
    "#         if(row['Indicator'] == data['Indicator_DHIS2']):\n",
    "#             val= data['Indicator_reportHub']\n",
    "#         return val"
   ]
  },
  {
   "cell_type": "code",
   "execution_count": null,
   "id": "816523ca",
   "metadata": {},
   "outputs": [],
   "source": [
    "def map_activity_type(row):\n",
    "    activities = indicator_df.loc[indicator_df['Indicator_DHIS2'] == row['Indicator']]\n",
    "    print('activity type', activities['Activity Type'])\n",
    "    return activities['Activity Type']\n",
    "\n",
    "#     for index, data in indicator_df.iterrows():\n",
    "#         if(row['Indicator'] in data['Indicator_DHIS2']):\n",
    "#             return data['Activity Type']"
   ]
  },
  {
   "cell_type": "code",
   "execution_count": null,
   "id": "b65ea562",
   "metadata": {},
   "outputs": [],
   "source": [
    "def map_activity_description(row):\n",
    "    activities = indicator_df.loc[indicator_df['Indicator_DHIS2'] == row['Indicator']]\n",
    "    print('activity description', activities['Activity Description'])\n",
    "    return activities['Activity Description']\n",
    "#     for index, data in indicator_df.iterrows():\n",
    "#         if(row['Indicator'] in data['Indicator_DHIS2']):\n",
    "#             return data['Activity Description']"
   ]
  },
  {
   "cell_type": "code",
   "execution_count": null,
   "id": "95577d03",
   "metadata": {},
   "outputs": [],
   "source": [
    "def map_province_code(row):\n",
    "    provinces = admin_df.loc[admin_df['ADM1_NA_EN'] == row['Admin1 Name']]\n",
    "    print(\"province: \", provinces['ADM1_PCODE'].iloc[0])\n",
    "    return provinces['ADM1_PCODE'].iloc[0]\n",
    "#     for index, data in admin_df.iterrows():\n",
    "#         if(row['Admin1 Name'] in data['ADM1_NA_EN']):\n",
    "#             return data['ADM1_PCODE']"
   ]
  },
  {
   "cell_type": "code",
   "execution_count": null,
   "id": "660c713c",
   "metadata": {},
   "outputs": [],
   "source": [
    "def map_district_code(admin1_pcode, row):\n",
    "    provinces = admin_df.loc[admin_df['ADM1_PCODE'] == admin1_pcode]\n",
    "#     print(\"Provinces\", provinces)\n",
    "    result = provinces.loc[provinces['ADM2_NA_EN'] == row['Admin2 Name']]\n",
    "    print(\"district code\", result['ADM2_PCODE'].iloc[0])\n",
    "    print('====================================')\n",
    "\n",
    "    return result['ADM2_PCODE'].iloc[0]\n",
    "#     for index, data in admin_df.loc[admin_df['ADM1_PCODE'] == admin1_pcode].iterrows():\n",
    "#         if(row['Admin2 Name'] in data['ADM2_NA_EN']):\n",
    "#             return data['ADM2_PCODE']"
   ]
  },
  {
   "cell_type": "code",
   "execution_count": null,
   "id": "9217e680",
   "metadata": {},
   "outputs": [],
   "source": []
  },
  {
   "cell_type": "markdown",
   "id": "3beb6495",
   "metadata": {},
   "source": [
    "### Build ReportHub Object  (Remember to change Month and Year)"
   ]
  },
  {
   "cell_type": "code",
   "execution_count": null,
   "id": "5ec1afb6",
   "metadata": {},
   "outputs": [],
   "source": [
    "def build_dataset_row(row):\n",
    "    \n",
    "    report_month = 'June'\n",
    "    report_year = '2023'\n",
    "    \n",
    "#     print(row)\n",
    "    project_id ='62cea74d425a1b77347262b9'\n",
    "    report_id = '644f1d226c98c0885796863a'\n",
    "    target_location_id= '62cea74e425a1b77347262c6'\n",
    "    cluster = 'Health'\n",
    "    organization = 'WHO'\n",
    "    focal_point = 'Ramesh_Nassery'\n",
    "    email = 'nasseryr@who.int'\n",
    "    hrp_code ='AFG-HRP-2022-HEALTH-1657706209'\n",
    "    project_title ='Provision of Primary Health Care Services in Underserved/White areas through BHC, SHC, and MHT'\n",
    "    project_code = 'EMAFG2220946'\n",
    "    project_donors = 'Central Emergency Respond Fund, ECHO, USAID/BHA'\n",
    "    program_partners = ''\n",
    "#     implementing_partners =\n",
    "    country='Afghanistan'\n",
    "#     admin1_pcode =''\n",
    "#     admin1_name =''\n",
    "#     admin2_pcode =''\n",
    "#     admin2_name =''\n",
    "    admin3_pcode =''\n",
    "    admin3_name =''\n",
    "    site_implementation = 'Clinic'\n",
    "#     site_type ='BHC'\n",
    "#     location_name =''\n",
    "\n",
    "#     activity_type ='Primary Health Care Services'\n",
    "#     activity_description = '1.1 Provision of primary health care consultations'\\\n",
    "    activity_details =''\n",
    "#     indicator=''\n",
    "    category_type =''\n",
    "    beneficiary_type ='Host Communities'\n",
    "    hrp_beneficiary_type ='Vulnerable people with humanitarian needs'\n",
    "    beneficiary_category = 'Non-Disabled'\n",
    "    activity_response = ''\n",
    "    strategic_objective =''\n",
    "    strategic_objective_description =''\n",
    "    sector_objective =''\n",
    "    sector_objective_description =''\n",
    "    population ='New Beneficiaries'\n",
    "    amount =0\n",
    "    unit_type =''\n",
    "    cash_transfers = 0\n",
    "    cash_delivery_type =''\n",
    "    check_mechanism_type =''\n",
    "    package_type =''\n",
    "    transfer_category =''\n",
    "    grant_type = ''\n",
    "    total_transferred =0\n",
    "    households=0\n",
    "    families =0\n",
    "#     boys =\n",
    "#     girls= \n",
    "#     men =\n",
    "#     women = \n",
    "#     elderly_men =\n",
    "#     elderly_women = \n",
    "#     total = \n",
    "    total_persons_with_disability =0\n",
    "    created = ''\n",
    "    last_update = ''\n",
    "    \n",
    "#     print(\"==============================\")\n",
    "#     print(map_province_code(row))\n",
    "    \n",
    "    indicator = map_indicators(row)\n",
    "    activity_type = map_activity_type(row)\n",
    "    activity_description = map_activity_description(row)\n",
    "    admin1_pcode =map_province_code(row)\n",
    "    admin2_pcode =map_district_code(admin1_pcode, row)\n",
    "\n",
    "#     print(\"==============================\")\n",
    "    \n",
    "    \n",
    "    data_row = {\n",
    "        'Project ID' : project_id,\n",
    "        'Report ID' : report_id,\n",
    "        'Target Location ID': target_location_id,\n",
    "        'Cluster': cluster,\n",
    "        'Organization': organization, \n",
    "        'Focal Point': focal_point,\n",
    "        'Email': email, \n",
    "        'HRP Code': hrp_code, \n",
    "        'Project Title': project_title,\n",
    "        'Project Code': project_code, \n",
    "        'Project Donors': project_donors,\n",
    "        'Programme Partners': program_partners,\n",
    "        'Implementing Partners': row['Implementing Partners'],\n",
    "        'Country' : country,\n",
    "        'Admin1 Pcode': admin1_pcode,\n",
    "        'Admin1 Name': row['Admin1 Name'],\n",
    "        'Admin2 Pcode': admin2_pcode,\n",
    "        'Admin2 Name': row['Admin2 Name'],\n",
    "        'Admin3 Pcode': admin3_pcode,\n",
    "        'Admin3 Name': admin3_name,\n",
    "        'Site Implementation': site_implementation,\n",
    "        'Site Type': row['Site Type'],\n",
    "        'Location Name': row['Location Name'],\n",
    "        'Report Month': report_month,\n",
    "        'Report Year' : report_year, \n",
    "        'Activity Type': activity_type,\n",
    "        'Activity Description': activity_description,\n",
    "        'Activity Details': activity_details, \n",
    "        'Indicator': row['Indicator'],\n",
    "        'Category Type': category_type,\n",
    "        'Beneficiary Type': beneficiary_type,\n",
    "        'HRP Beneficiary Type': hrp_beneficiary_type,\n",
    "        'Beneficiary Category': beneficiary_category,\n",
    "        'Activity Response': activity_response,\n",
    "        'Strategic Objective':strategic_objective,\n",
    "        'Strategic Objective Description': strategic_objective_description,\n",
    "        'Sector Objective': sector_objective,\n",
    "        'Sector Objective Description': sector_objective_description,\n",
    "        'Population': population, \n",
    "        'Amount': amount,\n",
    "        'Unit Type': unit_type,\n",
    "        'Cash Transfers': cash_transfers,\n",
    "        'Cash Delivery Type': cash_delivery_type, \n",
    "        'Cash Mechanism Type': check_mechanism_type,\n",
    "        'Package Type': package_type,\n",
    "        'Transfer Category': transfer_category,\n",
    "        'Grant Type': grant_type,\n",
    "        'Total Transferred': total_transferred,\n",
    "        'Households': households,\n",
    "        'Families' : families, \n",
    "        'Boys' : row['Boys'], \n",
    "        'Girls' : row['Girls'], \n",
    "        'Men': row['Men'], \n",
    "        'Women':row['Women'], \n",
    "        'Elderly Men':row['Elderly Men'], \n",
    "        'Elderly Women': row['Elderly Women'], \n",
    "        'Total': 0, \n",
    "        'Total Persons With Disabilities': 0, \n",
    "        'Created': created,\n",
    "        'Last Update': last_update\n",
    "    }\n",
    "    \n",
    "    return data_row"
   ]
  },
  {
   "cell_type": "code",
   "execution_count": null,
   "id": "200e4cf3",
   "metadata": {},
   "outputs": [],
   "source": []
  },
  {
   "cell_type": "code",
   "execution_count": null,
   "id": "7061bc66",
   "metadata": {},
   "outputs": [],
   "source": []
  },
  {
   "cell_type": "code",
   "execution_count": null,
   "id": "5b9c33b6",
   "metadata": {},
   "outputs": [],
   "source": [
    "# df = df.reset_index() # make sure indexes pair with number of rows\n",
    "\n",
    "dataset = []\n",
    "for index, row in df.iterrows():\n",
    "#     print(row)\n",
    "    data_row = build_dataset_row(row)\n",
    "    dataset.append(data_row)"
   ]
  },
  {
   "cell_type": "code",
   "execution_count": null,
   "id": "1e3bba1f",
   "metadata": {},
   "outputs": [],
   "source": [
    "# dataset"
   ]
  },
  {
   "cell_type": "code",
   "execution_count": null,
   "id": "ea6bd061",
   "metadata": {},
   "outputs": [],
   "source": [
    "# print(data)\n",
    "output_df = pd.DataFrame(dataset)\n",
    "# df = pd.DataFrame(data)\n",
    "output_df.head()"
   ]
  },
  {
   "cell_type": "code",
   "execution_count": null,
   "id": "423e7326",
   "metadata": {},
   "outputs": [],
   "source": []
  },
  {
   "cell_type": "code",
   "execution_count": null,
   "id": "600bfc0c",
   "metadata": {},
   "outputs": [],
   "source": []
  },
  {
   "cell_type": "markdown",
   "id": "558c4fa5",
   "metadata": {},
   "source": [
    "### Export data "
   ]
  },
  {
   "cell_type": "code",
   "execution_count": null,
   "id": "b02c502b",
   "metadata": {},
   "outputs": [],
   "source": [
    "output_df = output_df.loc[output_df['Indicator'] != \"\"]\n",
    "output_df.to_csv('june2023/reporthub_testdata_02.csv')"
   ]
  },
  {
   "cell_type": "code",
   "execution_count": null,
   "id": "68ad0345",
   "metadata": {},
   "outputs": [],
   "source": []
  },
  {
   "cell_type": "code",
   "execution_count": null,
   "id": "8386ccc5",
   "metadata": {},
   "outputs": [],
   "source": []
  }
 ],
 "metadata": {
  "kernelspec": {
   "display_name": "Python 3 (ipykernel)",
   "language": "python",
   "name": "python3"
  },
  "language_info": {
   "codemirror_mode": {
    "name": "ipython",
    "version": 3
   },
   "file_extension": ".py",
   "mimetype": "text/x-python",
   "name": "python",
   "nbconvert_exporter": "python",
   "pygments_lexer": "ipython3",
   "version": "3.11.4"
  }
 },
 "nbformat": 4,
 "nbformat_minor": 5
}
